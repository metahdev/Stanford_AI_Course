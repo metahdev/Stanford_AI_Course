{
  "nbformat": 4,
  "nbformat_minor": 0,
  "metadata": {
    "kernelspec": {
      "display_name": "Python 3",
      "language": "python",
      "name": "python3"
    },
    "language_info": {
      "codemirror_mode": {
        "name": "ipython",
        "version": 3
      },
      "file_extension": ".py",
      "mimetype": "text/x-python",
      "name": "python",
      "nbconvert_exporter": "python",
      "pygments_lexer": "ipython3",
      "version": "3.7.7"
    },
    "colab": {
      "name": "\"k_nearest_neighbors\" by metahdev.ipynb",
      "provenance": [],
      "collapsed_sections": []
    }
  },
  "cells": [
    {
      "cell_type": "markdown",
      "metadata": {
        "id": "Pp3nRY2E7b82",
        "colab_type": "text"
      },
      "source": [
        "# The K-nearest neighbors algorithm\n",
        "\n",
        "In this notebook you will implement the k-nearest neighbors (KNN) algorithm with k-fold cross validation\n",
        "\n",
        "We will use the Iris dataset\n",
        "\n",
        "Let's remember what we need to write the KNN algorithm\n",
        "\n",
        "* Labeled, multidimensional data (training, and validation set)\n",
        "* A distance (L1 vs L2)\n",
        "* A number of neighbors (must be odd)"
      ]
    },
    {
      "cell_type": "code",
      "metadata": {
        "id": "gaa_NgLz7b85",
        "colab_type": "code",
        "colab": {}
      },
      "source": [
        "import random \n",
        "import numpy as np\n",
        "import matplotlib.pyplot as plt\n",
        "from sklearn import datasets\n",
        "from scipy import stats\n",
        "%matplotlib inline\n",
        "\n",
        "iris = datasets.load_iris() \n",
        "x = iris.data\n",
        "y = iris.target\n",
        "\n",
        "x = x[:, :2]\n",
        "# x = x[2: 4]"
      ],
      "execution_count": 189,
      "outputs": []
    },
    {
      "cell_type": "code",
      "metadata": {
        "id": "NSEivENr7b9P",
        "colab_type": "code",
        "colab": {}
      },
      "source": [
        "# in this notebook I am going to use lowerCamelCase\n",
        "nTotal = x.shape[0]\n",
        "nTest = nTotal // 10\n",
        "nTrain = nTotal - nTest\n",
        "\n",
        "# we randomize training indexes rather than testing \n",
        "# so we can easily append data to folds later on \n",
        "trainIndex = np.random.choice(range(nTotal), size = nTrain, replace = False)\n",
        "testIndex = np.delete(range(nTotal), trainIndex)\n",
        "\n",
        "xTest = x[testIndex]\n",
        "yTest = y[testIndex]\n",
        "xTrain = x[trainIndex]\n",
        "yTrain = y[trainIndex]"
      ],
      "execution_count": 190,
      "outputs": []
    },
    {
      "cell_type": "code",
      "metadata": {
        "id": "F_TXzF9P7b9f",
        "colab_type": "code",
        "colab": {}
      },
      "source": [
        "nFolds = 5\n",
        "foldSize = nTrain // nFolds\n",
        "\n",
        "xFolds = [] \n",
        "yFolds = [] \n",
        "\n",
        "beginValue = 0\n",
        "endValue = foldSize\n",
        "# does this algorithm uses all training data? \n",
        "for i in range(nFolds):\n",
        "  xFolds.append(xTrain[beginValue: endValue])\n",
        "  yFolds.append(yTrain[beginValue: endValue])\n",
        "  beginValue += foldSize \n",
        "  endValue += foldSize"
      ],
      "execution_count": 191,
      "outputs": []
    },
    {
      "cell_type": "code",
      "metadata": {
        "id": "h-ijB1WW7b9q",
        "colab_type": "code",
        "colab": {}
      },
      "source": [
        "kS = [1, 3, 5, 11, 21, 51, 101]"
      ],
      "execution_count": 192,
      "outputs": []
    },
    {
      "cell_type": "code",
      "metadata": {
        "id": "TgpFU0SS7b90",
        "colab_type": "code",
        "colab": {}
      },
      "source": [
        "# Norms \n",
        "def l1Norm(x, a):\n",
        "  norm = []\n",
        "\n",
        "  for i in range(x.shape[0]): \n",
        "    norm.append(sum(abs(ia - ix) for ia, ix in zip(a, x[i])))\n",
        "\n",
        "  return norm\n",
        "\n",
        "def l2Norm(x, a):\n",
        "  norm = []\n",
        "\n",
        "  for i in range(x.shape[0]): \n",
        "    norm.append(sum( pow(pow(ia, 2) + pow(ix, 2), 1/2) for ia, ix in zip(a, x[i])))\n",
        "\n",
        "  return norm"
      ],
      "execution_count": 193,
      "outputs": []
    },
    {
      "cell_type": "markdown",
      "metadata": {
        "id": "NFIAxQh17b94",
        "colab_type": "text"
      },
      "source": [
        "Ok, we have everything we need. Now we can write the KNN algorithm with k-fold cross validation. \n",
        "\n",
        "The algorithm is:\n",
        "* For all k-nearest neighbor values that we want to try\n",
        "    * For all possible k-fold splits of training and validation data\n",
        "        * Store the features and classes of the training data\n",
        "        * For each validation point:\n",
        "            * Compute the distance between the validation datapoint and all the training datapoints.\n",
        "            * Find the top k nearest training neighbors\n",
        "            * The category of the validation datapoint is presumed to be the most common category among the k nearest training neighbors.\n",
        "\n",
        "\n",
        "\n"
      ]
    },
    {
      "cell_type": "code",
      "metadata": {
        "id": "O7326wUU7b95",
        "colab_type": "code",
        "colab": {}
      },
      "source": [
        "allKnnFoldAcc = []\n",
        "\n",
        "for k in kS: \n",
        "  allFoldAcc = []\n",
        "\n",
        "  for iFold in range(nFolds):\n",
        "    xVl = xFolds[iFold][25: foldSize]\n",
        "    yVl = yFolds[iFold][25: foldSize]\n",
        "    xTr = xFolds[iFold][0: foldSize - 2]\n",
        "    yTr = yFolds[iFold][0: foldSize - 2]\n",
        "\n",
        "    xTr = np.vstack(xTr) # do not change this line\n",
        "    yTr = np.hstack(yTr) # do not change this line\n",
        "        \n",
        "    KNN = []\n",
        "    for x in xVl: \n",
        "      allDistances = l2Norm(xTr, x)\n",
        "      sortedDistances = sorted([(d, i) for i, d in enumerate(allDistances)])\n",
        "      kCloseExamps = sortedDistances[: k]\n",
        "      kCloseCategories = []\n",
        "      for examp in kCloseExamps:\n",
        "        kCloseCategories.append(yTr[examp[1]])\n",
        "                \n",
        "      KNN.append(kCloseCategories)\n",
        "\n",
        "    correctCount = 0\n",
        "    for iknn, knn in enumerate(KNN):\n",
        "      if stats.mode(knn)[0] == yVl[iknn]:\n",
        "        correctCount += 1\n",
        "    allFoldAcc.append(correctCount / len(yVl))\n",
        "\n",
        "  allKnnFoldAcc.append(allFoldAcc)"
      ],
      "execution_count": 194,
      "outputs": []
    },
    {
      "cell_type": "code",
      "metadata": {
        "id": "Lk0Uuuxv7b9-",
        "colab_type": "code",
        "colab": {
          "base_uri": "https://localhost:8080/",
          "height": 279
        },
        "outputId": "8a8aa712-6a94-4ee9-bcca-94eefb78b300"
      },
      "source": [
        "plt.plot(kS, allKnnFoldAcc, 'ok')\n",
        "plt.errorbar(kS, np.mean(allKnnFoldAcc, axis = 1), np.std(allKnnFoldAcc, axis = 1))\n",
        "plt.xlabel('K')\n",
        "plt.ylabel('Accuracy')\n",
        "plt.show()"
      ],
      "execution_count": 195,
      "outputs": [
        {
          "output_type": "display_data",
          "data": {
            "image/png": "[encoded data removed]",
            "text/plain": [
              "<Figure size 432x288 with 1 Axes>"
            ]
          },
          "metadata": {
            "tags": [],
            "needs_background": "light"
          }
        }
      ]
    },
    {
      "cell_type": "code",
      "metadata": {
        "id": "jYpbjaRA7b-E",
        "colab_type": "code",
        "colab": {
          "base_uri": "https://localhost:8080/",
          "height": 279
        },
        "outputId": "8350cfd6-90a8-476b-da2b-6af98e02e111"
      },
      "source": [
        "# now find which value of k gave you the best results\n",
        "kS = [1, 3, 5, 7, 9, 11, 13] # accuracy: 1.0\n",
        "\n",
        "# use the entire training set to create your model\n",
        "# - done?\n",
        "\n",
        "\n",
        "# I know that the following algorithm is incorrect; I could not \n",
        "# change validation points to testing due to difference of their types \n",
        "allKnnFoldAcc = []\n",
        "\n",
        "for k in kS: \n",
        "  allFoldAcc = []\n",
        "\n",
        "  for iFold in range(nFolds):\n",
        "    xTr = xFolds[iFold][0: foldSize - 2]\n",
        "    yTr = yFolds[iFold][0: foldSize - 2]\n",
        "\n",
        "    xTr = np.vstack(xTr) # do not change this line\n",
        "    yTr = np.hstack(yTr) # do not change this line\n",
        "        \n",
        "    KNN = []\n",
        "    for x in xTest: \n",
        "      allDistances = l2Norm(xTr, x)\n",
        "      sortedDistances = sorted([(d, i) for i, d in enumerate(allDistances)])\n",
        "      kCloseExamps = sortedDistances[: k]\n",
        "      kCloseCategories = []\n",
        "      for examp in kCloseExamps:\n",
        "        kCloseCategories.append(yTr[examp[1]])\n",
        "                \n",
        "      KNN.append(kCloseCategories)\n",
        "\n",
        "    correctCount = 0\n",
        "    for iknn, knn in enumerate(KNN):\n",
        "      if stats.mode(knn)[0] == yTr[iknn]:\n",
        "        correctCount += 1\n",
        "    allFoldAcc.append(correctCount / len(yTest))\n",
        "\n",
        "  allKnnFoldAcc.append(allFoldAcc)\n",
        "  \n",
        "plt.plot(kS, allKnnFoldAcc, 'ok')\n",
        "plt.errorbar(kS, np.mean(allKnnFoldAcc, axis = 1), np.std(allKnnFoldAcc, axis = 1))\n",
        "plt.xlabel('K')\n",
        "plt.ylabel('Accuracy')\n",
        "plt.show()\n",
        "\n",
        "# What is the test accuracy that you obtained?\n",
        "# around 0.04"
      ],
      "execution_count": 196,
      "outputs": [
        {
          "output_type": "display_data",
          "data": {
            "image/png": "[encoded data removed]",
            "text/plain": [
              "<Figure size 432x288 with 1 Axes>"
            ]
          },
          "metadata": {
            "tags": [],
            "needs_background": "light"
          }
        }
      ]
    },
    {
      "cell_type": "markdown",
      "metadata": {
        "id": "ES2hS6A57b-I",
        "colab_type": "text"
      },
      "source": [
        "Once you are done, try the following:\n",
        "* Use the L2 norm instead of L1 \n",
        "* Use another set of 2 features from the Iris dataset\n",
        "* Use more than two features. Start using 3 features and generate 3D plots.\n",
        "\n",
        "Do you understand what is happenning in all the lines of code that were prodivided to you and you did not have to write?"
      ]
    },
    {
      "cell_type": "code",
      "metadata": {
        "id": "XBthURW4zyt-",
        "colab_type": "code",
        "colab": {}
      },
      "source": [
        "# Use the L2 norm instead of L1\n",
        "# - the function for L2 norm is written but currently not being used "
      ],
      "execution_count": 197,
      "outputs": []
    },
    {
      "cell_type": "code",
      "metadata": {
        "id": "E_M66RYhzy3p",
        "colab_type": "code",
        "colab": {}
      },
      "source": [
        "# Use another set of 2 features from the Iris dataset\n",
        "# I commented out code that takes last 2 argument of X, but you can test with it"
      ],
      "execution_count": 198,
      "outputs": []
    },
    {
      "cell_type": "code",
      "metadata": {
        "id": "gA4-VBkdzzBf",
        "colab_type": "code",
        "colab": {}
      },
      "source": [
        "# Use more than two features. Start using 3 features and generate 3D plots.\n",
        "\n",
        "# I kinda don't have time, so I didn't make everything as functions \n",
        "# but I think the concept is the same as like as in the first homework \n",
        "# you take working 2D functions and rewrite the code so it includes \n",
        "# more arguments  "
      ],
      "execution_count": 199,
      "outputs": []
    },
    {
      "cell_type": "markdown",
      "metadata": {
        "id": "oEl6evnI6qTw",
        "colab_type": "text"
      },
      "source": [
        "Yes, I understand all the lines of code that were prodivided to me."
      ]
    }
  ]
}
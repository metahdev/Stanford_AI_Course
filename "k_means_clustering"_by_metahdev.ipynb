{
  "nbformat": 4,
  "nbformat_minor": 0,
  "metadata": {
    "kernelspec": {
      "display_name": "Python 3",
      "language": "python",
      "name": "python3"
    },
    "language_info": {
      "codemirror_mode": {
        "name": "ipython",
        "version": 3
      },
      "file_extension": ".py",
      "mimetype": "text/x-python",
      "name": "python",
      "nbconvert_exporter": "python",
      "pygments_lexer": "ipython3",
      "version": "3.7.7"
    },
    "colab": {
      "name": "\"k_means_clustering\" by metahdev.ipynb",
      "provenance": [],
      "collapsed_sections": []
    }
  },
  "cells": [
    {
      "cell_type": "markdown",
      "metadata": {
        "id": "qBQooDNB4ITw",
        "colab_type": "text"
      },
      "source": [
        "# K-means clustering\n",
        "\n",
        "In this assignment you will implement the K-means clustering algorithm using the Iris dataset. "
      ]
    },
    {
      "cell_type": "markdown",
      "metadata": {
        "id": "ltHSW9pM4IUB",
        "colab_type": "text"
      },
      "source": [
        "Before anything else, let's summarize what we need to get started:\n",
        "* A dataset with multiple examples (datapoints) and at least one feature with continuous values.\n",
        "* The max and min values of each feature to generate random initial K-points.\n",
        "* A uniform distribution for each dimension.\n",
        "* Define how many K-points you will use (How can you know this?).\n",
        "* Define how you will know that you have reached “convergence”.\n",
        "\n",
        "Let's go through these points."
      ]
    },
    {
      "cell_type": "code",
      "metadata": {
        "id": "rHvl-Agn4IUI",
        "colab_type": "code",
        "colab": {}
      },
      "source": [
        "# importing all the necessary libraries\n",
        "import random \n",
        "import numpy as np\n",
        "import matplotlib.pyplot as plt\n",
        "from mpl_toolkits import mplot3d\n",
        "from sklearn import datasets\n",
        "%matplotlib inline\n",
        "\n",
        "iris = datasets.load_iris() \n",
        "X = iris.data\n",
        "y = iris.target\n",
        "names = iris.feature_names\n",
        "\n",
        "begin_X_index = 0\n",
        "end_X_index = 2\n",
        "\n",
        "# function for assigning X value again and avoid copypasting \n",
        "def get_X_data(): \n",
        "  X = iris.data \n",
        "  X = X[:, begin_X_index: end_X_index]  \n",
        "  return X\n",
        "\n",
        "def name_axis(): \n",
        "  plt.xlabel(names[begin_X_index])\n",
        "  plt.ylabel(names[end_X_index - 1])\n",
        "\n",
        "X = get_X_data()"
      ],
      "execution_count": 20,
      "outputs": []
    },
    {
      "cell_type": "code",
      "metadata": {
        "id": "Xc0F8THx4IUd",
        "colab_type": "code",
        "colab": {}
      },
      "source": [
        "# challenge: can you write this with a for loop?\n",
        "# - challenge accepted \n",
        "def get_min_max(arr):\n",
        "  min = max = arr[0]\n",
        "  for i in arr[1:]:\n",
        "    if i < min: \n",
        "      min = i \n",
        "    else: \n",
        "      if i > max: \n",
        "        max = i\n",
        "  return (min, max)\n",
        "x0_min_max = get_min_max(X[:, 0])\n",
        "x1_min_max = get_min_max(X[:, 1])"
      ],
      "execution_count": 21,
      "outputs": []
    },
    {
      "cell_type": "code",
      "metadata": {
        "id": "XHqTp2JM4IVK",
        "colab_type": "code",
        "colab": {}
      },
      "source": [
        "num_K_points = 3"
      ],
      "execution_count": 22,
      "outputs": []
    },
    {
      "cell_type": "code",
      "metadata": {
        "id": "YTW8g-c24IVX",
        "colab_type": "code",
        "colab": {}
      },
      "source": [
        "# challenge: How will you define that you have reached convergence?\n",
        "# - challenge accepted(kinda)\n",
        "\n",
        "# strangely, this code doesn't work as a function\n",
        "# I mean it works, but it runs only one time \n",
        "# I think it would work in Swift\n",
        "# as you said, python is weird\n",
        "# it has problems identifying which variables are global and which are not, \n",
        "# so you kinda have to pass some arguments manually \n",
        "# and it creates strange problems \n",
        "# \"Swift is better than python\" - change my mind XD \n",
        "# sorry for comments spam\n",
        "\n",
        "# def reaching_convergence(old_K_points, K_points): \n",
        "#   current_loop = 0\n",
        "#   k_points = K_points\n",
        "#   old_k_points = old_K_points\n",
        "#   while old_k_points != k_points:\n",
        "#     old_k_points = k_points\n",
        "#     closest_k_point = []\n",
        "#     distances = []\n",
        "#     second_step(closest_k_point, distances)\n",
        "#     K_points = third_step(k_points)\n",
        "#     visualize_kPoints_data() \n",
        "#     current_loop += 1 \n",
        "#     if current_loop == 10:\n",
        "#       break \n",
        "#   return k_points "
      ],
      "execution_count": 23,
      "outputs": []
    },
    {
      "cell_type": "markdown",
      "metadata": {
        "id": "7y_03xm94IVj",
        "colab_type": "text"
      },
      "source": [
        "Ok, we have everything we need to get started writing the algorithm. Let's remember the algorithm steps:\n",
        "1. Generate K points by drawing numbers from a uniform distribution for each feature (use the max and min values to delimit the uniform distribution). \n",
        "2. Calculate which of the K point is closest to each of the datapoints. This will define K regions in your dataset.\n",
        "3. Calculate the mean for the datapoints in each of the K regions. The new K means will be your new K points. \n",
        "4. Repeat steps 2 and 3 until achieving convergence.\n",
        "\n",
        "Let's write the K-means clustering algorithm:"
      ]
    },
    {
      "cell_type": "code",
      "metadata": {
        "id": "9WVwjcgn4IVk",
        "colab_type": "code",
        "colab": {}
      },
      "source": [
        "# step 1 \n",
        "K_points = [] \n",
        "def first_step(): \n",
        "  for i in range(num_K_points):\n",
        "    rand1 = random.uniform(x0_min_max[0], x0_min_max[1])\n",
        "    rand2 = random.uniform(x1_min_max[0], x1_min_max[1])\n",
        "    K_points.append([rand1, rand2])\n",
        "first_step() "
      ],
      "execution_count": 24,
      "outputs": []
    },
    {
      "cell_type": "code",
      "metadata": {
        "id": "VgE1Cvzt4IVn",
        "colab_type": "code",
        "colab": {
          "base_uri": "https://localhost:8080/",
          "height": 279
        },
        "outputId": "bf03f7b9-5378-4cb8-a331-c30c77262be3"
      },
      "source": [
        "# - function for data visualization \n",
        "main_colors = ['red', 'blue', 'g']\n",
        "colors = ['pink','c','yellowgreen']\n",
        "def visualize_kPoints_data(): \n",
        "  for i in range(num_K_points):\n",
        "    plt.scatter(K_points[i][0], K_points[i][1], c = main_colors[i], s = 100)\n",
        "  plt.show()\n",
        "\n",
        "name_axis()\n",
        "visualize_kPoints_data()"
      ],
      "execution_count": 25,
      "outputs": [
        {
          "output_type": "display_data",
          "data": {
            "image/png": "[encoded data removed]",
            "text/plain": [
              "<Figure size 432x288 with 1 Axes>"
            ]
          },
          "metadata": {
            "tags": [],
            "needs_background": "light"
          }
        }
      ]
    },
    {
      "cell_type": "code",
      "metadata": {
        "id": "WG6bTHnG4IVq",
        "colab_type": "code",
        "colab": {
          "base_uri": "https://localhost:8080/",
          "height": 282
        },
        "outputId": "f4a6ad71-9578-4a23-faa8-742e463e5802"
      },
      "source": [
        "plt.scatter(X[:, 0], X[:, 1], c = 'gray')\n",
        "name_axis()\n",
        "visualize_kPoints_data()\n",
        "\n",
        "# Do the K-points seem to be the mean of the clusters that your datapoints form?\n",
        "# - no "
      ],
      "execution_count": 26,
      "outputs": [
        {
          "output_type": "display_data",
          "data": {
            "image/png": "[encoded data removed]",
            "text/plain": [
              "<Figure size 432x288 with 1 Axes>"
            ]
          },
          "metadata": {
            "tags": [],
            "needs_background": "light"
          }
        }
      ]
    },
    {
      "cell_type": "code",
      "metadata": {
        "id": "BmDKmvCK4IVt",
        "colab_type": "code",
        "colab": {
          "base_uri": "https://localhost:8080/",
          "height": 268
        },
        "outputId": "e7c4e31d-95f4-4d9c-d3b4-17bd0da1a362"
      },
      "source": [
        "def L1_norm(a, b):\n",
        "  norm = 0 \n",
        "  for i in range(len(a)):\n",
        "    norm += abs(a[i] - b[i])\n",
        "    \n",
        "  return norm\n",
        "\n",
        "def L2_norm(a, b):\n",
        "  sum = 0 \n",
        "  for i in range(2): \n",
        "    sum += pow((a[i] - b[i]), 2)\n",
        "  return np.sqrt(sum)\n",
        "\n",
        "Ndatapoints = len(X)\n",
        "closest_k_point = []\n",
        "distances = []\n",
        "\n",
        "def second_step(closest_k_point, distances): \n",
        "  for i in range(Ndatapoints):\n",
        "    norms = []\n",
        "    for ii in range(num_K_points):\n",
        "      norms.append(L2_norm(X[i], K_points[ii]))\n",
        "      # norms.append(L1_norm(X[i], K_points[ii]))\n",
        "    distances.append(norms)  \n",
        "\n",
        "  # I combined finding closest point and plot scattering\n",
        "  for i in range(Ndatapoints):\n",
        "    min_distance = get_min_max(distances[i])[0]\n",
        "    index = distances[i].index(min_distance)\n",
        "    closest_k_point.append(index)\n",
        "\n",
        "    plt.scatter(X[i, 0], X[i, 1], c = colors[closest_k_point[i]])\n",
        "\n",
        "second_step(closest_k_point, distances)\n",
        "plt.show()"
      ],
      "execution_count": 27,
      "outputs": [
        {
          "output_type": "display_data",
          "data": {
            "image/png": "[encoded data removed]",
            "text/plain": [
              "<Figure size 432x288 with 1 Axes>"
            ]
          },
          "metadata": {
            "tags": [],
            "needs_background": "light"
          }
        }
      ]
    },
    {
      "cell_type": "code",
      "metadata": {
        "id": "Fsqkkhr24IVx",
        "colab_type": "code",
        "colab": {
          "base_uri": "https://localhost:8080/",
          "height": 282
        },
        "outputId": "bf0ee75f-3405-47ed-a9b6-ca8d1548204e"
      },
      "source": [
        "def cluster_mean(cluster):\n",
        "  mean = [0, 0]\n",
        "  sum0 = 0 \n",
        "  sum1 = 0 \n",
        "  for i in range(len(cluster)):\n",
        "    sum0 += cluster[i][0]\n",
        "    sum1 += cluster[i][1]\n",
        "  \n",
        "  mean[0] = round(sum0 / len(cluster), 2)\n",
        "  mean[1] = round(sum1 / len(cluster), 2)\n",
        "        \n",
        "  return mean\n",
        " \n",
        "def third_step(K_points): \n",
        "  clusters = [[],[],[]]   \n",
        "\n",
        "  for i in range(Ndatapoints):\n",
        "    cindex = 2\n",
        "    if closest_k_point[i] == 0:\n",
        "      cindex = 0 \n",
        "    elif closest_k_point[i] == 1:\n",
        "      cindex = 1 \n",
        "    clusters[cindex].append([X[i][0], X[i][1]])\n",
        "\n",
        "  mean0 = cluster_mean(clusters[0])\n",
        "  mean1 = cluster_mean(clusters[1])\n",
        "  mean2 = cluster_mean(clusters[2])\n",
        "\n",
        "  means = [mean0, mean1, mean2]\n",
        "\n",
        "  for i in range(Ndatapoints):\n",
        "    plt.scatter(X[i, 0], X[i, 1], c = colors[closest_k_point[i]])\n",
        "\n",
        "  return means\n",
        "\n",
        "K_points = third_step(K_points)\n",
        "name_axis()\n",
        "visualize_kPoints_data() "
      ],
      "execution_count": 28,
      "outputs": [
        {
          "output_type": "display_data",
          "data": {
            "image/png": "[encoded data removed]",
            "text/plain": [
              "<Figure size 432x288 with 1 Axes>"
            ]
          },
          "metadata": {
            "tags": [],
            "needs_background": "light"
          }
        }
      ]
    },
    {
      "cell_type": "markdown",
      "metadata": {
        "id": "YDj7ej814IV6",
        "colab_type": "text"
      },
      "source": [
        "Now that you have written the three steps, you can repeat steps 2 and 3 until your algorithm converges. \n",
        "\n",
        "You can write a while loop to automate the repetition of the steps. How will you know when to stop the while loop?"
      ]
    },
    {
      "cell_type": "code",
      "metadata": {
        "id": "c8SO1GwP4IV7",
        "colab_type": "code",
        "colab": {
          "base_uri": "https://localhost:8080/",
          "height": 299
        },
        "outputId": "766c0096-911f-43ed-dc6c-fd7af6834fc5"
      },
      "source": [
        "old_K_points = [0, 0, 0]\n",
        "current_loop = 0 \n",
        "# reaching_convergence(old_K_points, K_points)\n",
        "while old_K_points != K_points:\n",
        "  old_K_points = K_points\n",
        "  closest_k_point = []\n",
        "  distances = []\n",
        "  second_step(closest_k_point, distances)\n",
        "  K_points = third_step(K_points)\n",
        "  current_loop += 1 \n",
        "\n",
        "print(\"ran the loop\", current_loop, \"times\")\n",
        "name_axis()\n",
        "visualize_kPoints_data() "
      ],
      "execution_count": 29,
      "outputs": [
        {
          "output_type": "stream",
          "text": [
            "ran the loop 13 times\n"
          ],
          "name": "stdout"
        },
        {
          "output_type": "display_data",
          "data": {
            "image/png": "[encoded data removed]",
            "text/plain": [
              "<Figure size 432x288 with 1 Axes>"
            ]
          },
          "metadata": {
            "tags": [],
            "needs_background": "light"
          }
        }
      ]
    },
    {
      "cell_type": "code",
      "metadata": {
        "id": "gp0bEA1T4IV_",
        "colab_type": "code",
        "colab": {
          "base_uri": "https://localhost:8080/",
          "height": 51
        },
        "outputId": "f11ee808-e3dc-4e8c-f849-1bc1ebc9ecae"
      },
      "source": [
        "# Now write code to visualize a comparison between the clusters that you found and the ground truth\n",
        "\n",
        "def check_accuracy(closest_k_point): \n",
        "  correct_answers = 0 \n",
        "  incorrect_answers = 0 \n",
        "  for i in range(len(y)):\n",
        "    if closest_k_point[i] == y[i]: \n",
        "      correct_answers += 1\n",
        "    else:\n",
        "      incorrect_answers += 1\n",
        "  print(correct_answers, \"correct answers\")\n",
        "  print(incorrect_answers, \"incorrect answers\")\n",
        "check_accuracy(closest_k_point)\n",
        "\n",
        "# one time I got 142 correct answers !\n",
        "# but sometimes proportions are bizarre \n",
        "# so you can run the previous cell for more accurate results"
      ],
      "execution_count": 30,
      "outputs": [
        {
          "output_type": "stream",
          "text": [
            "123 correct answers\n",
            "27 incorrect answers\n"
          ],
          "name": "stdout"
        }
      ]
    },
    {
      "cell_type": "markdown",
      "metadata": {
        "id": "tMy1powH4IWC",
        "colab_type": "text"
      },
      "source": [
        "Once you are done, try the following:\n",
        "* Use the L2 norm instead of L1 norm\n",
        "* Use another set of 2 features from the Iris dataset\n",
        "* Use more than two features. Start using 3 features and generate 3D plots\n",
        "* Can you do this with all 4 features? What if you do it only with 1 feature?\n",
        "* How do you get the best result?"
      ]
    },
    {
      "cell_type": "code",
      "metadata": {
        "id": "H2WVmKLdNK0-",
        "colab_type": "code",
        "colab": {}
      },
      "source": [
        "# Use the L2 norm instead of L1 norm\n",
        "# algorithm already works using L2 norm(L1 norm getting function is commented)"
      ],
      "execution_count": 31,
      "outputs": []
    },
    {
      "cell_type": "code",
      "metadata": {
        "id": "TjjSbr3e3Ugp",
        "colab_type": "code",
        "colab": {
          "base_uri": "https://localhost:8080/",
          "height": 578
        },
        "outputId": "58a35ce3-b3a8-47d5-a958-b8b6c1988d25"
      },
      "source": [
        "# Use another set of 2 features from the Iris dataset\n",
        "begin_X_index = 2\n",
        "end_X_index = 4\n",
        "X = get_X_data()\n",
        "name_axis()\n",
        "x0_min_max = get_min_max(X[:, 0])\n",
        "x1_min_max = get_min_max(X[:, 1])\n",
        "K_points = []\n",
        "first_step() \n",
        "closest_k_point = []\n",
        "distances = []\n",
        "second_step(closest_k_point, distances)\n",
        "K_points = third_step(K_points)\n",
        "visualize_kPoints_data() \n",
        "\n",
        "# sorry for copypasta\n",
        "old_K_points = [0, 0, 0]\n",
        "\n",
        "current_loop = 0\n",
        "while old_K_points != K_points:\n",
        "  old_K_points = K_points\n",
        "  closest_k_point = []\n",
        "  distances = []\n",
        "  second_step(closest_k_point, distances)\n",
        "  K_points = third_step(K_points)\n",
        "  current_loop += 1 \n",
        "\n",
        "print(\"ran the loop\", current_loop, \"times\")\n",
        "visualize_kPoints_data() \n",
        "\n",
        "# for better accuracy in this case you should run cell twice(but not more)\n",
        "check_accuracy(closest_k_point)"
      ],
      "execution_count": 32,
      "outputs": [
        {
          "output_type": "display_data",
          "data": {
            "image/png": "[encoded data removed]",
            "text/plain": [
              "<Figure size 432x288 with 1 Axes>"
            ]
          },
          "metadata": {
            "tags": [],
            "needs_background": "light"
          }
        },
        {
          "output_type": "stream",
          "text": [
            "ran the loop 8 times\n"
          ],
          "name": "stdout"
        },
        {
          "output_type": "display_data",
          "data": {
            "image/png": "[encoded data removed]",
            "text/plain": [
              "<Figure size 432x288 with 1 Axes>"
            ]
          },
          "metadata": {
            "tags": [],
            "needs_background": "light"
          }
        },
        {
          "output_type": "stream",
          "text": [
            "2 correct answers\n",
            "148 incorrect answers\n"
          ],
          "name": "stdout"
        }
      ]
    },
    {
      "cell_type": "code",
      "metadata": {
        "id": "GXU_l1J-yU9u",
        "colab_type": "code",
        "colab": {
          "base_uri": "https://localhost:8080/",
          "height": 282
        },
        "outputId": "248da4b1-4b92-408e-c681-86a5fa6c3bd0"
      },
      "source": [
        "# Use more than two features. Start using 3 features and generate 3D plots\n",
        "\n",
        "fig = plt.figure()\n",
        "ax = plt.axes(projection = '3d')\n",
        "ax.set_zlabel(names[2])\n",
        "\n",
        "begin_X_index = 0\n",
        "end_X_index = 3\n",
        "X = get_X_data()\n",
        "name_axis()\n",
        "Ndatapoints = len(X)\n",
        "\n",
        "x0_min_max = get_min_max(X[:, 0])\n",
        "x1_min_max = get_min_max(X[:, 1])\n",
        "x2_min_max = get_min_max(X[:, 2])\n",
        "K_points = []\n",
        "\n",
        "# added rand3 \n",
        "def threeD_first_step(): \n",
        "  for i in range(num_K_points):\n",
        "    rand1 = random.uniform(x0_min_max[0], x0_min_max[1])\n",
        "    rand2 = random.uniform(x1_min_max[0], x1_min_max[1])\n",
        "    rand3 = random.uniform(x2_min_max[0], x2_min_max[1])\n",
        "    K_points.append([rand1, rand2, rand3])\n",
        "threeD_first_step() \n",
        "\n",
        "closest_k_point = []\n",
        "distances = []\n",
        "\n",
        "def threeD_L2_norm(a, b):\n",
        "  sum = 0 \n",
        "  for i in range(3): \n",
        "    sum += pow((a[i] - b[i]), 2)\n",
        "  return np.sqrt(sum)\n",
        "\n",
        "# everything the same besides scattering and l2\n",
        "def threeD_second_step(closest_k_point, distances): \n",
        "  for i in range(Ndatapoints):\n",
        "    norms = []\n",
        "    for ii in range(num_K_points):\n",
        "      norms.append(threeD_L2_norm(X[i], K_points[ii]))\n",
        "    distances.append(norms)  \n",
        "\n",
        "  # I combined finding closest point and plot scattering\n",
        "  for i in range(Ndatapoints):\n",
        "    min_distance = get_min_max(distances[i])[0]\n",
        "    index = distances[i].index(min_distance)\n",
        "    closest_k_point.append(index)\n",
        "\n",
        "  #   plt.scatter(X[i, 0], X[i, 1], X[i, 2], c = colors[closest_k_point[i]])\n",
        "threeD_second_step(closest_k_point, distances)\n",
        "\n",
        "def threeD_cluster_mean(cluster):\n",
        "  mean = [0, 0, 0]\n",
        "  sum0 = 0 \n",
        "  sum1 = 0 \n",
        "  sum2 = 0 \n",
        "  for i in range(len(cluster)):\n",
        "    sum0 += cluster[i][0]\n",
        "    sum1 += cluster[i][1]\n",
        "    sum2 += cluster[i][1]\n",
        "  \n",
        "  mean[0] = round(sum0 / len(cluster), 2)\n",
        "  mean[1] = round(sum1 / len(cluster), 2)\n",
        "  mean[2] = round(sum2 / len(cluster), 2)\n",
        "  return mean\n",
        "\n",
        "\n",
        "def threeD_third_step(K_points): \n",
        "  clusters = [[],[],[]]   \n",
        "\n",
        "  for i in range(Ndatapoints):\n",
        "    cindex = 2  \n",
        "    if closest_k_point[i] == 0:\n",
        "      cindex = 0\n",
        "    elif closest_k_point[i] == 1:\n",
        "      cindex = 1 \n",
        "    clusters[cindex].append([X[i][0], X[i][1], X[i][2]])\n",
        "\n",
        "  mean0 = threeD_cluster_mean(clusters[0])\n",
        "  mean1 = threeD_cluster_mean(clusters[1])\n",
        "  mean2 = threeD_cluster_mean(clusters[2])\n",
        "\n",
        "  means = [mean0, mean1, mean2]\n",
        "\n",
        "  for i in range(Ndatapoints):\n",
        "    plt.scatter(X[i, 0], X[i, 1], X[i, 2], c = colors[closest_k_point[i]])\n",
        "\n",
        "  return means\n",
        "\n",
        "k_Points = threeD_third_step(K_points)\n",
        "check_accuracy(closest_k_point)\n",
        "\n",
        "# ideally, this code should work, but it doesn't \n",
        "# there are weird bug with values \n",
        "# therefore it returns errors like 'can't divide by 0'\n",
        "\n",
        "# sorry for copypasta x2 \n",
        "# old_K_points = [0, 0, 0]\n",
        "# current_loop = 0\n",
        "# while old_K_points != K_points:\n",
        "#   old_K_points = K_points\n",
        "#   closest_k_point = []\n",
        "#   distances = []\n",
        "#   threeD_second_step(closest_k_point, distances)\n",
        "#   K_points = threeD_third_step(K_points)\n",
        "#   current_loop += 1 \n",
        "# print(\"ran the loop\", current_loop, \"times\")\n",
        "\n",
        "visualize_kPoints_data() \n",
        "plt.show()"
      ],
      "execution_count": 37,
      "outputs": [
        {
          "output_type": "stream",
          "text": [
            "65 correct answers\n",
            "85 incorrect answers\n"
          ],
          "name": "stdout"
        },
        {
          "output_type": "display_data",
          "data": {
            "image/png": "[encoded data removed]",
            "text/plain": [
              "<Figure size 432x288 with 1 Axes>"
            ]
          },
          "metadata": {
            "tags": [],
            "needs_background": "light"
          }
        }
      ]
    },
    {
      "cell_type": "markdown",
      "metadata": {
        "id": "pmMAfjIIYjoB",
        "colab_type": "text"
      },
      "source": [
        "It is possible to do this with all 4 features, but it will be impossible to present it as a graph, so we should use heat map or table instead. If we do it with 1 feature - we can present it as a constant horizontal line. "
      ]
    },
    {
      "cell_type": "markdown",
      "metadata": {
        "id": "5INj0Wd-ZKS4",
        "colab_type": "text"
      },
      "source": [
        "The best results is achievable by using 4 features. "
      ]
    }
  ]
}
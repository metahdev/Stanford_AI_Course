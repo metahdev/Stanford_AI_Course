{
  "nbformat": 4,
  "nbformat_minor": 0,
  "metadata": {
    "colab": {
      "name": "\"logistic_regression\" by metahdev.ipynb\"",
      "provenance": [],
      "collapsed_sections": []
    },
    "kernelspec": {
      "name": "python3",
      "display_name": "Python 3"
    }
  },
  "cells": [
    {
      "cell_type": "code",
      "metadata": {
        "id": "wTJsCDqM7Xc6",
        "colab_type": "code",
        "colab": {}
      },
      "source": [
        "# Logistic regression (you do not have to do anything in this cell)\n",
        "\n",
        "# import the libraries that we will need\n",
        "from sklearn import datasets\n",
        "import math \n",
        "import numpy as np\n",
        "import matplotlib.pyplot as plt\n",
        "%matplotlib inline\n",
        "\n",
        "# Now we load the breast cancer dataset\n",
        "X, y = datasets.load_breast_cancer(return_X_y=True)\n",
        "\n",
        "# we will only use the first feature (you should try with others after \n",
        "# completing the notebook)\n",
        "X = X[:, 0]"
      ],
      "execution_count": 11,
      "outputs": []
    },
    {
      "cell_type": "code",
      "metadata": {
        "id": "QZExLCWA7iCt",
        "colab_type": "code",
        "colab": {
          "base_uri": "https://localhost:8080/",
          "height": 279
        },
        "outputId": "c28874eb-8340-49f0-e2f2-d5b130fa4297"
      },
      "source": [
        "# now we split the data (you do not have to do anything in this cell)\n",
        "\n",
        "# because we want to use cross validation, \n",
        "# we randomly select 10% as test, 10% as validation, and 80% as training\n",
        "Ntotal = X.shape[0]\n",
        "Ntest_val = int(Ntotal/5)\n",
        "Nval = Ntest_val/2\n",
        "Ntrain = Ntotal - Ntest_val\n",
        "\n",
        "# now let's generate the indices for the test and val\n",
        "test_val_idx = np.random.choice(range(Ntotal),Ntest_val,replace=False)\n",
        "test_idx = test_val_idx[:int(Ntest_val/2)]\n",
        "val_idx = test_val_idx[int(Ntest_val/2):]\n",
        "\n",
        "X_ts = X[test_idx]\n",
        "y_ts = y[test_idx]\n",
        "X_vl = X[val_idx]\n",
        "y_vl = y[val_idx]\n",
        "X_tr = np.delete(X, test_val_idx)\n",
        "y_tr = np.delete(y, test_val_idx)\n",
        "\n",
        "# we forget about the testing data for now\n",
        "\n",
        "# here 1 means that the patient is healthy\n",
        "# and 0 means that the patient has cancer\n",
        "plt.scatter(X_tr,y_tr)\n",
        "plt.xlabel('Patient feature')\n",
        "plt.ylabel('Healthy or Not healthy')\n",
        "plt.show()"
      ],
      "execution_count": 12,
      "outputs": [
        {
          "output_type": "display_data",
          "data": {
            "image/png": "[encoded data removed]",
            "text/plain": [
              "<Figure size 432x288 with 1 Axes>"
            ]
          },
          "metadata": {
            "tags": [],
            "needs_background": "light"
          }
        }
      ]
    },
    {
      "cell_type": "code",
      "metadata": {
        "id": "oE4a8pUfsMcp",
        "colab_type": "code",
        "colab": {
          "base_uri": "https://localhost:8080/",
          "height": 809
        },
        "outputId": "7c12fc21-9641-4702-b072-241785134cde"
      },
      "source": [
        "# we want to find the best values for bias and slope\n",
        "# since we do not know them, let's initialize them to be\n",
        "# random numbers from a normal distribution with zero mean\n",
        "# and a small variance (much smaller than 1)\n",
        "\n",
        "bias = 0\n",
        "slope = np.random.randn(1)\n",
        "\n",
        "# now we can get y_hat for the training data\n",
        "# challenge: can you do this with linear algebra multiplying a vector \n",
        "# (containing the bias and slope) by a matrix containing the datapoints?\n",
        "score = bias + slope*X_tr\n",
        "y_hat = 1/(1 + np.exp(-score))\n",
        "\n",
        "# let's visualize y_hat and the datapoints\n",
        "plt.scatter(X_tr,y_tr)\n",
        "plt.scatter(X_tr, y_hat, c='r')\n",
        "plt.title('Initial y_hat and datapoints')\n",
        "plt.show()\n",
        "\n",
        "# define the learning rate\n",
        "learning_rate = 0.01\n",
        "\n",
        "# now we put everything in a for loop, so that we can repeat the process\n",
        "Niters = 40000\n",
        "\n",
        "for iter in range(Niters):\n",
        "  # calculate the y_hat with the slope and bias values\n",
        "  # for the training set\n",
        "  score = bias + slope * X_tr\n",
        "  y_hat = 1 / (1 + math.exp(1) ** (-1 * score))\n",
        "  J = (-1 / Ntrain) * sum((y_tr) * np.log(y_hat) + (1 - y_tr) * np.log(y_hat))\n",
        "  \n",
        "  # now do the same for the validation set\n",
        "  score = bias + slope * X_vl\n",
        "  y_hat_vl = 1 / (1 + math.exp(1) ** (-1 * score))\n",
        "  J_vl = (-1 / Nval) * sum((y_vl) * np.log(y_hat_vl) + (1 - y_vl) * np.log(y_hat_vl))\n",
        "\n",
        "  # update the bias and slope terms\n",
        "  dJdbias = (1/Ntrain) * sum(y_hat - y_tr)\n",
        "  dJdslope = (1/Ntrain) * sum((y_hat - y_tr) * X_tr)\n",
        "  bias = bias - learning_rate * dJdbias\n",
        "  slope = slope - learning_rate * dJdslope  \n",
        "\n",
        "  # print('At iteration No. ' + str(iter) + ' ,the cross-entropy (training) cost is: ', J)\n",
        "  # print('------------------------------ the cross-entropy (validation) cost is: ', J_vl)\n",
        "\n",
        "# let's visualize y_hat and the datapoints\n",
        "# after training\n",
        "plt.scatter(X_tr,y_tr)\n",
        "plt.scatter(X_tr, y_hat, c='r')\n",
        "plt.title('Final y_hat and datapoints (training)')\n",
        "plt.show()\n",
        "\n",
        "plt.scatter(X_vl,y_vl)\n",
        "plt.scatter(X_vl, y_hat_vl, c='r')\n",
        "plt.title('Final y_hat and datapoints (validation)')\n",
        "plt.show()"
      ],
      "execution_count": 13,
      "outputs": [
        {
          "output_type": "display_data",
          "data": {
            "image/png": "[encoded data removed]",
            "text/plain": [
              "<Figure size 432x288 with 1 Axes>"
            ]
          },
          "metadata": {
            "tags": [],
            "needs_background": "light"
          }
        },
        {
          "output_type": "display_data",
          "data": {
            "image/png": "[encoded data removed]",
            "text/plain": [
              "<Figure size 432x288 with 1 Axes>"
            ]
          },
          "metadata": {
            "tags": [],
            "needs_background": "light"
          }
        },
        {
          "output_type": "display_data",
          "data": {
            "image/png": "[encoded data removed]",
            "text/plain": [
              "<Figure size 432x288 with 1 Axes>"
            ]
          },
          "metadata": {
            "tags": [],
            "needs_background": "light"
          }
        }
      ]
    },
    {
      "cell_type": "code",
      "metadata": {
        "id": "rIiyErEaCy7m",
        "colab_type": "code",
        "colab": {
          "base_uri": "https://localhost:8080/",
          "height": 51
        },
        "outputId": "e3f06570-f654-4995-eda9-02260941931e"
      },
      "source": [
        "# now we calculate the accuracy\n",
        "\n",
        "# to do this, we need to turn the values \n",
        "# in y_hat and y_hat_val into zeros and ones\n",
        "# any value above 0.5 will become 1, and any value\n",
        "# under 0.5 will become zero. 0.5 will become zero\n",
        "# hint: use np.round\n",
        "\n",
        "y_hat_0_1 = np.around(y_hat, 1)\n",
        "# round values to 0 or 1 \n",
        "y_hat_vl_0_1 = np.around(y_hat_vl, 1)\n",
        "\n",
        "print('The training accuracy is:', np.sum(y_tr == y_hat_0_1/ Ntrain), '%')\n",
        "print('The validation accuracy is:', np.sum(y_vl == y_hat_vl_0_1 /Nval), '%')"
      ],
      "execution_count": 14,
      "outputs": [
        {
          "output_type": "stream",
          "text": [
            "The training accuracy is: 75 %\n",
            "The validation accuracy is: 9 %\n"
          ],
          "name": "stdout"
        }
      ]
    },
    {
      "cell_type": "code",
      "metadata": {
        "id": "-bUtW6wQ-cAx",
        "colab_type": "code",
        "colab": {}
      },
      "source": [
        "# more things to try\n",
        "# - I would like to experiment with stuff but I have too many tasks to do \n",
        "# in the final project \n",
        "\n",
        "# create plots to visualize the training and validation loss and accuracies\n",
        "# as a function of training iterations. \n",
        "\n",
        "\n",
        "# if you use more than one feature, you should be able to bring the training\n",
        "# cost very close to zero. How low can you bring the validation cost?\n",
        "\n",
        "\n",
        "# how do you know when to stop your training? define a rule to stop your\n",
        "# training, and substitute the for loop for a while loop\n",
        "# - I would write a code to change whether acccuracy has changed, but I have too many tasks to do \n",
        "\n",
        "# once you find the absolue best model, check the test accuracy. \n",
        "# do this only once. Dointg it more than one time is bad practice and makes\n",
        "# your cross-validation efforts useless."
      ],
      "execution_count": 17,
      "outputs": []
    }
  ]
}